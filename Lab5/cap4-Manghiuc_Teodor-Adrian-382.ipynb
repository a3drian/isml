{
 "cells": [
  {
   "cell_type": "code",
   "execution_count": 1,
   "metadata": {
    "ExecuteTime": {
     "end_time": "2020-06-12T14:32:04.314744Z",
     "start_time": "2020-06-12T14:32:03.120975Z"
    }
   },
   "outputs": [],
   "source": [
    "import numpy as np\n",
    "import matplotlib.pyplot as plt\n",
    "import scipy.stats as stats\n",
    "from scipy.special import binom\n",
    "from scipy.stats import ttest_ind_from_stats\n",
    "import pandas as pd\n",
    "import math\n",
    "import pickle\n",
    "import seaborn"
   ]
  },
  {
   "cell_type": "markdown",
   "metadata": {},
   "source": [
    "## Laborator: exerciţii şi probleme"
   ]
  },
  {
   "cell_type": "markdown",
   "metadata": {},
   "source": [
    "__Q1__. $\\bar{X}$ şi $\\bar{Y}$ sunt calculate ca medii ale $n$ variabile aleatoare iid provenind din distribuţiile cu medii $\\mu_x$ şi respectiv $\\mu_y$, însă având aceeaşi dispersie $\\sigma^2$. Care este dispersia (variance) pentru variabila aleatoare $\\bar{X} - \\bar{Y}$ ?"
   ]
  },
  {
   "cell_type": "code",
   "execution_count": 2,
   "metadata": {
    "ExecuteTime": {
     "end_time": "2020-06-12T14:32:04.320739Z",
     "start_time": "2020-06-12T14:32:04.315743Z"
    }
   },
   "outputs": [
    {
     "name": "stdout",
     "output_type": "stream",
     "text": [
      "R Q1.\n"
     ]
    }
   ],
   "source": [
    "print(\"R Q1.\")"
   ]
  },
  {
   "cell_type": "markdown",
   "metadata": {},
   "source": [
    "$Var[X_i - Y_i] = E[(X_i - Y_i)^2] - E^2[X_i - Y_i]$\n",
    "<br><br>\n",
    "\n",
    "$Var[X_i - Y_i] = E[(X_i^2 - 2 X_i Y_i + Y_i^2)] - (E[X_i - Y_i])^2$\n",
    "<br><br>\n",
    "\n",
    "$Var[X_i - Y_i] = E[X_i^2] - 2E[2 X_i Y_i] + E[Y_i^2] - (E[X_i] - E[Y_i])^2$\n",
    "<br><br>\n",
    "\n",
    "$Var[X_i - Y_i] = E[X_i^2] - 2E[X_i][Y_i] + E[Y_i^2] - (E^2[X_i] - 2E[X_i]E[Y_i] + E^2[Y_i])$\n",
    "<br><br>\n",
    "\n",
    "$Var[X_i - Y_i] = E[X_i^2] + E[Y_i^2] - E^2[X_i] - E^2[Y_i]$\n",
    "<br><br>\n",
    "\n",
    "$Var[X_i - Y_i] = Var[X_i] + Var[Y_i]$"
   ]
  },
  {
   "cell_type": "code",
   "execution_count": 3,
   "metadata": {
    "ExecuteTime": {
     "end_time": "2020-06-12T14:32:04.341717Z",
     "start_time": "2020-06-12T14:32:04.322736Z"
    }
   },
   "outputs": [
    {
     "name": "stdout",
     "output_type": "stream",
     "text": [
      "R Q1.\n"
     ]
    }
   ],
   "source": [
    "print(\"R Q1.\")"
   ]
  },
  {
   "cell_type": "markdown",
   "metadata": {},
   "source": [
    "$Var[\\bar{X}-\\bar{Y}] = Var[\\frac{X_1 + X_2 + ... + X_n}{n} - \\frac{Y_1 + Y_2 + ... + Y_n}{n}]$\n",
    "<br><br>\n",
    "\n",
    "$Var[\\bar{X}-\\bar{Y}] = \\frac{1}{n^2}(Var[X_1 - Y_1] + Var[X_2 - Y_2] + ... + Var[X_n - Y_n])$\n",
    "<br><br>\n",
    "\n",
    "$Var[\\bar{X}-\\bar{Y}] = \\frac{1}{n^2}\\sum_{i=1}^{n}(Var[X_i] + Var[Y_i])$\n",
    "<br><br>\n",
    "\n",
    "$Var[\\bar{X}-\\bar{Y}] = \\frac{1}{n^2}(\\sum_{i=1}^{n} 2\\sigma^2)$\n",
    "<br><br>\n",
    "\n",
    "$Var[\\bar{X}-\\bar{Y}] = \\frac{1}{n^2}2n\\sigma^2$\n",
    "<br><br>\n",
    "\n",
    "$Var[\\bar{X}-\\bar{Y}] = \\frac{2\\sigma^2}{n}$"
   ]
  },
  {
   "cell_type": "markdown",
   "metadata": {},
   "source": [
    " __Q2__. O variabilă aleatoare ia valoarea -4 cu probabilitatea .2 şi respectiv valoarea 1 cu probabilitatea 0.8. Care sunt media şi dispersia acestei variabile aleatoare?"
   ]
  },
  {
   "cell_type": "code",
   "execution_count": 4,
   "metadata": {
    "ExecuteTime": {
     "end_time": "2020-06-12T14:32:04.352706Z",
     "start_time": "2020-06-12T14:32:04.343715Z"
    }
   },
   "outputs": [
    {
     "name": "stdout",
     "output_type": "stream",
     "text": [
      "R. mean: 0.0\n",
      "R Q2. var: 4.0\n"
     ]
    }
   ],
   "source": [
    "#weighted mean = expected value\n",
    "\n",
    "mean = -4 * 0.2 + 1 * 0.8\n",
    "print(\"R. mean:\", mean)\n",
    "\n",
    "var = (-4 - mean)**2 * 0.2 + (1 - mean)**2 * 0.8\n",
    "print(\"R Q2. var:\", var)"
   ]
  },
  {
   "cell_type": "markdown",
   "metadata": {},
   "source": [
    "__Q3__. Considerăm următoarea PMF pentru o variabilă aleatoare:\n",
    "<br>p = \\[.1, .2, .3, .4\\]\n",
    "<br>x = range(2 : 6)\n",
    "\n",
    "Care este dispersia variabilei aleatoare?"
   ]
  },
  {
   "cell_type": "code",
   "execution_count": 5,
   "metadata": {
    "ExecuteTime": {
     "end_time": "2020-06-12T14:32:04.375682Z",
     "start_time": "2020-06-12T14:32:04.354703Z"
    }
   },
   "outputs": [
    {
     "name": "stdout",
     "output_type": "stream",
     "text": [
      "mean: 4.0\n",
      "mean_squared: 16.0\n",
      "squared expected values: 17.0\n",
      "R Q3. variance: 1.0\n"
     ]
    }
   ],
   "source": [
    "p = [.1, .2, .3, .4]\n",
    "x = range(2, 6)\n",
    "\n",
    "mean = 0 #the sum of all expected values (value * probability)\n",
    "s = 0 #the sum of all squared expected values (value^2 * probability)\n",
    "\n",
    "for i in range(len(x)):\n",
    "    mean += x[i] * p[i]\n",
    "    s += (x[i]**2) * p[i]\n",
    "    \n",
    "mean_squared = mean**2\n",
    "var = s - mean_squared\n",
    "    \n",
    "print(\"mean:\", mean)\n",
    "print(\"mean_squared:\", mean_squared)\n",
    "print(\"squared expected values:\", s)\n",
    "print(\"R Q3. variance:\", var)"
   ]
  },
  {
   "cell_type": "markdown",
   "metadata": {},
   "source": [
    "__Q4__. Presupunem că numărul de accesări web pentru un anume site are o distribuţie aproximativ normală de medie 100 de accesări pe zi şi deviaţie standard 10 accesări pe zi. Care este probabilitatea ca într-o zi să avem mai puţin de 93 accesări, exprimată ca procent?"
   ]
  },
  {
   "cell_type": "code",
   "execution_count": 6,
   "metadata": {
    "ExecuteTime": {
     "end_time": "2020-06-12T14:32:04.385672Z",
     "start_time": "2020-06-12T14:32:04.377680Z"
    }
   },
   "outputs": [
    {
     "name": "stdout",
     "output_type": "stream",
     "text": [
      "z_score: -0.7\n",
      "probabilitatea = 24.1964 %\n",
      "R Q4. p: 24.2 %\n"
     ]
    }
   ],
   "source": [
    "#calculam z-score pentru x\n",
    "\n",
    "x = 93\n",
    "mu = 100\n",
    "sd = 10\n",
    "\n",
    "z_score = (x-mu)/sd\n",
    "print(\"z_score:\", z_score)\n",
    "\n",
    "cdf = stats.norm.cdf(z_score) * 100\n",
    "print(f\"probabilitatea = {round(cdf, 4)} %\")\n",
    "\n",
    "p = stats.norm.cdf(x, loc=mu, scale=sd)\n",
    "p = p * 100\n",
    "\n",
    "print(f\"R Q4. p: {round(p, 2)} %\")"
   ]
  },
  {
   "cell_type": "markdown",
   "metadata": {},
   "source": [
    "__Q5__. Aveţi un prieten care pretinde că poate discerne un vin bun de unul ieftin doar după gust. Deoarece nu îl credeţi, decideţi să-l supuneţi unui test. Presupunând că aveţi dreptate, într-un test dublu orb unde randomizaţi 6 perechi de varietăţi (Merlot, Sauvignon, ...) de vin ieftin şi respectiv vin scump. Care este şansa ca el să ghicească, la întâmplare, 5 sau 6 corect?"
   ]
  },
  {
   "cell_type": "code",
   "execution_count": 7,
   "metadata": {
    "ExecuteTime": {
     "end_time": "2020-06-12T14:32:04.396660Z",
     "start_time": "2020-06-12T14:32:04.386670Z"
    }
   },
   "outputs": [
    {
     "name": "stdout",
     "output_type": "stream",
     "text": [
      "R Q5. probabilitatea (binom) = 0.109375\n",
      "R Q5. probabilitatea (cdf) = 0.109375\n"
     ]
    }
   ],
   "source": [
    "#se aduna probabilitatiele pentru 5, respectiv 6 vinuri clasificate corect\n",
    "# 1 = 6 - 5 pt. cdf\n",
    "\n",
    "p = 0.5\n",
    "\n",
    "p_5 = binom(6, 5) * p**6\n",
    "p_6 = binom(6, 6) * p**6\n",
    "b = p_5 + p_6\n",
    "print(f\"R Q5. probabilitatea (binom) = {round(b, 6)}\")\n",
    "\n",
    "cdf = stats.binom.cdf(1, n=6, p=p)\n",
    "print(f\"R Q5. probabilitatea (cdf) = {round(cdf, 6)}\")"
   ]
  },
  {
   "cell_type": "markdown",
   "metadata": {},
   "source": [
    "__Q6__. Numărul de accesări web este distribuit Poisson cu o medie de 16.5 accesări zilnice. Care este probabilitatea de a obţine 20 sau mai puţine în 2 zile?"
   ]
  },
  {
   "cell_type": "code",
   "execution_count": 8,
   "metadata": {
    "ExecuteTime": {
     "end_time": "2020-06-12T14:32:04.413643Z",
     "start_time": "2020-06-12T14:32:04.398658Z"
    }
   },
   "outputs": [
    {
     "name": "stdout",
     "output_type": "stream",
     "text": [
      "R Q6. p: 0.0105 %\n"
     ]
    }
   ],
   "source": [
    "#se calculeaza P(X <= x), cu lambda = 16.5 si x = 20\n",
    "\n",
    "x = 20\n",
    "mu = 16.5\n",
    "\n",
    "p = stats.poisson.cdf(x, mu=mu*2)\n",
    "\n",
    "print(f\"R Q6. p: {round(p, 4)} %\")"
   ]
  },
  {
   "cell_type": "markdown",
   "metadata": {},
   "source": [
    "__Q7__. Considerăm dataset-ul father.son. Folosind CLT şi presupunând că taţii sunt un sample random din populaţie, care este intervalul de confidenţă 95% pentru media înălţimii lor?"
   ]
  },
  {
   "cell_type": "code",
   "execution_count": 9,
   "metadata": {
    "ExecuteTime": {
     "end_time": "2020-06-12T14:32:04.437618Z",
     "start_time": "2020-06-12T14:32:04.415641Z"
    }
   },
   "outputs": [
    {
     "data": {
      "text/html": [
       "<div>\n",
       "<style scoped>\n",
       "    .dataframe tbody tr th:only-of-type {\n",
       "        vertical-align: middle;\n",
       "    }\n",
       "\n",
       "    .dataframe tbody tr th {\n",
       "        vertical-align: top;\n",
       "    }\n",
       "\n",
       "    .dataframe thead th {\n",
       "        text-align: right;\n",
       "    }\n",
       "</style>\n",
       "<table border=\"1\" class=\"dataframe\">\n",
       "  <thead>\n",
       "    <tr style=\"text-align: right;\">\n",
       "      <th></th>\n",
       "      <th>Unnamed: 0</th>\n",
       "      <th>fheight</th>\n",
       "      <th>sheight</th>\n",
       "    </tr>\n",
       "  </thead>\n",
       "  <tbody>\n",
       "    <tr>\n",
       "      <th>0</th>\n",
       "      <td>1</td>\n",
       "      <td>65.04851</td>\n",
       "      <td>59.77827</td>\n",
       "    </tr>\n",
       "    <tr>\n",
       "      <th>1</th>\n",
       "      <td>2</td>\n",
       "      <td>63.25094</td>\n",
       "      <td>63.21404</td>\n",
       "    </tr>\n",
       "    <tr>\n",
       "      <th>2</th>\n",
       "      <td>3</td>\n",
       "      <td>64.95532</td>\n",
       "      <td>63.34242</td>\n",
       "    </tr>\n",
       "    <tr>\n",
       "      <th>3</th>\n",
       "      <td>4</td>\n",
       "      <td>65.75250</td>\n",
       "      <td>62.79238</td>\n",
       "    </tr>\n",
       "    <tr>\n",
       "      <th>4</th>\n",
       "      <td>5</td>\n",
       "      <td>61.13723</td>\n",
       "      <td>64.28113</td>\n",
       "    </tr>\n",
       "  </tbody>\n",
       "</table>\n",
       "</div>"
      ],
      "text/plain": [
       "   Unnamed: 0   fheight   sheight\n",
       "0           1  65.04851  59.77827\n",
       "1           2  63.25094  63.21404\n",
       "2           3  64.95532  63.34242\n",
       "3           4  65.75250  62.79238\n",
       "4           5  61.13723  64.28113"
      ]
     },
     "execution_count": 9,
     "metadata": {},
     "output_type": "execute_result"
    }
   ],
   "source": [
    "father_son = pd.read_csv('father_son.csv',sep=',')\n",
    "father_son.head()"
   ]
  },
  {
   "cell_type": "code",
   "execution_count": 10,
   "metadata": {
    "ExecuteTime": {
     "end_time": "2020-06-12T14:32:04.449605Z",
     "start_time": "2020-06-12T14:32:04.439617Z"
    }
   },
   "outputs": [
    {
     "name": "stdout",
     "output_type": "stream",
     "text": [
      "mean: 67.68709686456401\n",
      "std: 2.743594987591043\n",
      "R Q7. intervalul de confidenta 95%: [67.52331768 67.85087605]\n"
     ]
    }
   ],
   "source": [
    "x = father_son['fheight'].values\n",
    "\n",
    "mean = np.mean(x)\n",
    "std = np.std(x)\n",
    "n = len(x)\n",
    "print(\"mean:\", mean)\n",
    "print(\"std:\", std)\n",
    "\n",
    "percentila = stats.norm.ppf(0.975)\n",
    "i = (mean + np.array([-1, 1]) * percentila * std / np.sqrt(n))\n",
    "\n",
    "print(f\"R Q7. intervalul de confidenta 95%: {i}\")"
   ]
  },
  {
   "cell_type": "markdown",
   "metadata": {},
   "source": [
    "__Q8__. Considerăm o distribuţie uniformă. Extragem 100 de valori din această distribuţie uniformă cu medie 0.5 şi dispersie 1/12 şi calculăm media lor $\\bar{X}$. Care este probabilitatea de a obţine o medie mai mare sau egală cu 0.51?"
   ]
  },
  {
   "cell_type": "code",
   "execution_count": 11,
   "metadata": {
    "ExecuteTime": {
     "end_time": "2020-06-12T14:32:04.460595Z",
     "start_time": "2020-06-12T14:32:04.451604Z"
    }
   },
   "outputs": [
    {
     "name": "stdout",
     "output_type": "stream",
     "text": [
      "R Q8. p: 0.3645 %\n"
     ]
    }
   ],
   "source": [
    "#mai mic sau egal inseamna stats.norm.cdf()\n",
    "#mai mare sau egal inseamna 1 - stats.norm.cdf()\n",
    "\n",
    "x = 0.51\n",
    "mu = 0.5\n",
    "var = 1/12\n",
    "n = 100\n",
    "\n",
    "p = 1 - stats.norm.cdf(x, loc=mu, scale=np.sqrt(var / n))\n",
    "\n",
    "print(f\"R Q8. p: {round(p, 4)} %\")"
   ]
  },
  {
   "cell_type": "markdown",
   "metadata": {},
   "source": [
    "__Q9__. Rata de accesări a unui site web este de 10 pe minut, monitorizată timp de o oră. Care este intervalul de confidenţă Poisson a ratei de evenimente pe minut?"
   ]
  },
  {
   "cell_type": "code",
   "execution_count": 12,
   "metadata": {
    "ExecuteTime": {
     "end_time": "2020-06-12T14:32:04.470585Z",
     "start_time": "2020-06-12T14:32:04.462593Z"
    }
   },
   "outputs": [
    {
     "name": "stdout",
     "output_type": "stream",
     "text": [
      "media: 10.0\n",
      "R Q9. intervalul de confidenta: (9.2, 10.8)\n"
     ]
    }
   ],
   "source": [
    "# sample mean (+/-)*1.96 * radical(sample mean), unde 1.96 este intervalul de confidenta 95%\n",
    "\n",
    "x = 600 #accesari in 60 de minute\n",
    "t = 60 #60 de minute de monitorizare\n",
    "_lambda = x / t #media evenimentelor\n",
    "print(f\"media:\", _lambda)\n",
    "\n",
    "i = np.array(stats.poisson.interval(0.95, mu=x)) #interval pe ora\n",
    "i = i/60 #interval pe minut\n",
    "print(f\"R Q9. intervalul de confidenta: {i[0], i[1]}\")"
   ]
  },
  {
   "cell_type": "markdown",
   "metadata": {},
   "source": [
    "__Q10__. Considerăm datasetul mtcars. Construiţi intervalul T de confidenţă 95% pentru MPG (miles per gallon) comparând maşinile cu 4 respectiv 6 cilindri (diferenţa: setul 4 - setul 6), presupunând aceeaşi dispersie în cele două grupuri.\n",
    "\n",
    "Observând intervalul de confidenţă, ce concluzionaţi cu privire la consum?"
   ]
  },
  {
   "cell_type": "code",
   "execution_count": 13,
   "metadata": {
    "ExecuteTime": {
     "end_time": "2020-06-12T14:32:04.510543Z",
     "start_time": "2020-06-12T14:32:04.472583Z"
    },
    "scrolled": true
   },
   "outputs": [
    {
     "data": {
      "text/html": [
       "<div>\n",
       "<style scoped>\n",
       "    .dataframe tbody tr th:only-of-type {\n",
       "        vertical-align: middle;\n",
       "    }\n",
       "\n",
       "    .dataframe tbody tr th {\n",
       "        vertical-align: top;\n",
       "    }\n",
       "\n",
       "    .dataframe thead th {\n",
       "        text-align: right;\n",
       "    }\n",
       "</style>\n",
       "<table border=\"1\" class=\"dataframe\">\n",
       "  <thead>\n",
       "    <tr style=\"text-align: right;\">\n",
       "      <th></th>\n",
       "      <th>Unnamed: 0</th>\n",
       "      <th>mpg</th>\n",
       "      <th>cyl</th>\n",
       "      <th>disp</th>\n",
       "      <th>hp</th>\n",
       "      <th>drat</th>\n",
       "      <th>wt</th>\n",
       "      <th>qsec</th>\n",
       "      <th>vs</th>\n",
       "      <th>am</th>\n",
       "      <th>gear</th>\n",
       "      <th>carb</th>\n",
       "    </tr>\n",
       "  </thead>\n",
       "  <tbody>\n",
       "    <tr>\n",
       "      <th>0</th>\n",
       "      <td>Mazda RX4</td>\n",
       "      <td>21.0</td>\n",
       "      <td>6</td>\n",
       "      <td>160.0</td>\n",
       "      <td>110</td>\n",
       "      <td>3.90</td>\n",
       "      <td>2.620</td>\n",
       "      <td>16.46</td>\n",
       "      <td>0</td>\n",
       "      <td>1</td>\n",
       "      <td>4</td>\n",
       "      <td>4</td>\n",
       "    </tr>\n",
       "    <tr>\n",
       "      <th>1</th>\n",
       "      <td>Mazda RX4 Wag</td>\n",
       "      <td>21.0</td>\n",
       "      <td>6</td>\n",
       "      <td>160.0</td>\n",
       "      <td>110</td>\n",
       "      <td>3.90</td>\n",
       "      <td>2.875</td>\n",
       "      <td>17.02</td>\n",
       "      <td>0</td>\n",
       "      <td>1</td>\n",
       "      <td>4</td>\n",
       "      <td>4</td>\n",
       "    </tr>\n",
       "    <tr>\n",
       "      <th>2</th>\n",
       "      <td>Datsun 710</td>\n",
       "      <td>22.8</td>\n",
       "      <td>4</td>\n",
       "      <td>108.0</td>\n",
       "      <td>93</td>\n",
       "      <td>3.85</td>\n",
       "      <td>2.320</td>\n",
       "      <td>18.61</td>\n",
       "      <td>1</td>\n",
       "      <td>1</td>\n",
       "      <td>4</td>\n",
       "      <td>1</td>\n",
       "    </tr>\n",
       "    <tr>\n",
       "      <th>3</th>\n",
       "      <td>Hornet 4 Drive</td>\n",
       "      <td>21.4</td>\n",
       "      <td>6</td>\n",
       "      <td>258.0</td>\n",
       "      <td>110</td>\n",
       "      <td>3.08</td>\n",
       "      <td>3.215</td>\n",
       "      <td>19.44</td>\n",
       "      <td>1</td>\n",
       "      <td>0</td>\n",
       "      <td>3</td>\n",
       "      <td>1</td>\n",
       "    </tr>\n",
       "    <tr>\n",
       "      <th>4</th>\n",
       "      <td>Hornet Sportabout</td>\n",
       "      <td>18.7</td>\n",
       "      <td>8</td>\n",
       "      <td>360.0</td>\n",
       "      <td>175</td>\n",
       "      <td>3.15</td>\n",
       "      <td>3.440</td>\n",
       "      <td>17.02</td>\n",
       "      <td>0</td>\n",
       "      <td>0</td>\n",
       "      <td>3</td>\n",
       "      <td>2</td>\n",
       "    </tr>\n",
       "  </tbody>\n",
       "</table>\n",
       "</div>"
      ],
      "text/plain": [
       "          Unnamed: 0   mpg  cyl   disp   hp  drat     wt   qsec  vs  am  gear  \\\n",
       "0          Mazda RX4  21.0    6  160.0  110  3.90  2.620  16.46   0   1     4   \n",
       "1      Mazda RX4 Wag  21.0    6  160.0  110  3.90  2.875  17.02   0   1     4   \n",
       "2         Datsun 710  22.8    4  108.0   93  3.85  2.320  18.61   1   1     4   \n",
       "3     Hornet 4 Drive  21.4    6  258.0  110  3.08  3.215  19.44   1   0     3   \n",
       "4  Hornet Sportabout  18.7    8  360.0  175  3.15  3.440  17.02   0   0     3   \n",
       "\n",
       "   carb  \n",
       "0     4  \n",
       "1     4  \n",
       "2     1  \n",
       "3     1  \n",
       "4     2  "
      ]
     },
     "execution_count": 13,
     "metadata": {},
     "output_type": "execute_result"
    }
   ],
   "source": [
    "mtcars = pd.read_csv('mtcars.csv')\n",
    "mtcars.head()"
   ]
  },
  {
   "cell_type": "code",
   "execution_count": 14,
   "metadata": {
    "ExecuteTime": {
     "end_time": "2020-06-12T14:32:04.525528Z",
     "start_time": "2020-06-12T14:32:04.512541Z"
    }
   },
   "outputs": [],
   "source": [
    "mtcars_4cyl = mtcars.get(mtcars.cyl==4)\n",
    "mtcars_6cyl = mtcars.get(mtcars.cyl==6)"
   ]
  },
  {
   "cell_type": "code",
   "execution_count": 15,
   "metadata": {
    "ExecuteTime": {
     "end_time": "2020-06-12T14:32:04.550501Z",
     "start_time": "2020-06-12T14:32:04.527526Z"
    }
   },
   "outputs": [
    {
     "data": {
      "text/html": [
       "<div>\n",
       "<style scoped>\n",
       "    .dataframe tbody tr th:only-of-type {\n",
       "        vertical-align: middle;\n",
       "    }\n",
       "\n",
       "    .dataframe tbody tr th {\n",
       "        vertical-align: top;\n",
       "    }\n",
       "\n",
       "    .dataframe thead th {\n",
       "        text-align: right;\n",
       "    }\n",
       "</style>\n",
       "<table border=\"1\" class=\"dataframe\">\n",
       "  <thead>\n",
       "    <tr style=\"text-align: right;\">\n",
       "      <th></th>\n",
       "      <th>Unnamed: 0</th>\n",
       "      <th>mpg</th>\n",
       "      <th>cyl</th>\n",
       "      <th>disp</th>\n",
       "      <th>hp</th>\n",
       "      <th>drat</th>\n",
       "      <th>wt</th>\n",
       "      <th>qsec</th>\n",
       "      <th>vs</th>\n",
       "      <th>am</th>\n",
       "      <th>gear</th>\n",
       "      <th>carb</th>\n",
       "    </tr>\n",
       "  </thead>\n",
       "  <tbody>\n",
       "    <tr>\n",
       "      <th>2</th>\n",
       "      <td>Datsun 710</td>\n",
       "      <td>22.8</td>\n",
       "      <td>4</td>\n",
       "      <td>108.0</td>\n",
       "      <td>93</td>\n",
       "      <td>3.85</td>\n",
       "      <td>2.320</td>\n",
       "      <td>18.61</td>\n",
       "      <td>1</td>\n",
       "      <td>1</td>\n",
       "      <td>4</td>\n",
       "      <td>1</td>\n",
       "    </tr>\n",
       "    <tr>\n",
       "      <th>7</th>\n",
       "      <td>Merc 240D</td>\n",
       "      <td>24.4</td>\n",
       "      <td>4</td>\n",
       "      <td>146.7</td>\n",
       "      <td>62</td>\n",
       "      <td>3.69</td>\n",
       "      <td>3.190</td>\n",
       "      <td>20.00</td>\n",
       "      <td>1</td>\n",
       "      <td>0</td>\n",
       "      <td>4</td>\n",
       "      <td>2</td>\n",
       "    </tr>\n",
       "    <tr>\n",
       "      <th>8</th>\n",
       "      <td>Merc 230</td>\n",
       "      <td>22.8</td>\n",
       "      <td>4</td>\n",
       "      <td>140.8</td>\n",
       "      <td>95</td>\n",
       "      <td>3.92</td>\n",
       "      <td>3.150</td>\n",
       "      <td>22.90</td>\n",
       "      <td>1</td>\n",
       "      <td>0</td>\n",
       "      <td>4</td>\n",
       "      <td>2</td>\n",
       "    </tr>\n",
       "    <tr>\n",
       "      <th>17</th>\n",
       "      <td>Fiat 128</td>\n",
       "      <td>32.4</td>\n",
       "      <td>4</td>\n",
       "      <td>78.7</td>\n",
       "      <td>66</td>\n",
       "      <td>4.08</td>\n",
       "      <td>2.200</td>\n",
       "      <td>19.47</td>\n",
       "      <td>1</td>\n",
       "      <td>1</td>\n",
       "      <td>4</td>\n",
       "      <td>1</td>\n",
       "    </tr>\n",
       "    <tr>\n",
       "      <th>18</th>\n",
       "      <td>Honda Civic</td>\n",
       "      <td>30.4</td>\n",
       "      <td>4</td>\n",
       "      <td>75.7</td>\n",
       "      <td>52</td>\n",
       "      <td>4.93</td>\n",
       "      <td>1.615</td>\n",
       "      <td>18.52</td>\n",
       "      <td>1</td>\n",
       "      <td>1</td>\n",
       "      <td>4</td>\n",
       "      <td>2</td>\n",
       "    </tr>\n",
       "    <tr>\n",
       "      <th>19</th>\n",
       "      <td>Toyota Corolla</td>\n",
       "      <td>33.9</td>\n",
       "      <td>4</td>\n",
       "      <td>71.1</td>\n",
       "      <td>65</td>\n",
       "      <td>4.22</td>\n",
       "      <td>1.835</td>\n",
       "      <td>19.90</td>\n",
       "      <td>1</td>\n",
       "      <td>1</td>\n",
       "      <td>4</td>\n",
       "      <td>1</td>\n",
       "    </tr>\n",
       "    <tr>\n",
       "      <th>20</th>\n",
       "      <td>Toyota Corona</td>\n",
       "      <td>21.5</td>\n",
       "      <td>4</td>\n",
       "      <td>120.1</td>\n",
       "      <td>97</td>\n",
       "      <td>3.70</td>\n",
       "      <td>2.465</td>\n",
       "      <td>20.01</td>\n",
       "      <td>1</td>\n",
       "      <td>0</td>\n",
       "      <td>3</td>\n",
       "      <td>1</td>\n",
       "    </tr>\n",
       "    <tr>\n",
       "      <th>25</th>\n",
       "      <td>Fiat X1-9</td>\n",
       "      <td>27.3</td>\n",
       "      <td>4</td>\n",
       "      <td>79.0</td>\n",
       "      <td>66</td>\n",
       "      <td>4.08</td>\n",
       "      <td>1.935</td>\n",
       "      <td>18.90</td>\n",
       "      <td>1</td>\n",
       "      <td>1</td>\n",
       "      <td>4</td>\n",
       "      <td>1</td>\n",
       "    </tr>\n",
       "    <tr>\n",
       "      <th>26</th>\n",
       "      <td>Porsche 914-2</td>\n",
       "      <td>26.0</td>\n",
       "      <td>4</td>\n",
       "      <td>120.3</td>\n",
       "      <td>91</td>\n",
       "      <td>4.43</td>\n",
       "      <td>2.140</td>\n",
       "      <td>16.70</td>\n",
       "      <td>0</td>\n",
       "      <td>1</td>\n",
       "      <td>5</td>\n",
       "      <td>2</td>\n",
       "    </tr>\n",
       "    <tr>\n",
       "      <th>27</th>\n",
       "      <td>Lotus Europa</td>\n",
       "      <td>30.4</td>\n",
       "      <td>4</td>\n",
       "      <td>95.1</td>\n",
       "      <td>113</td>\n",
       "      <td>3.77</td>\n",
       "      <td>1.513</td>\n",
       "      <td>16.90</td>\n",
       "      <td>1</td>\n",
       "      <td>1</td>\n",
       "      <td>5</td>\n",
       "      <td>2</td>\n",
       "    </tr>\n",
       "    <tr>\n",
       "      <th>31</th>\n",
       "      <td>Volvo 142E</td>\n",
       "      <td>21.4</td>\n",
       "      <td>4</td>\n",
       "      <td>121.0</td>\n",
       "      <td>109</td>\n",
       "      <td>4.11</td>\n",
       "      <td>2.780</td>\n",
       "      <td>18.60</td>\n",
       "      <td>1</td>\n",
       "      <td>1</td>\n",
       "      <td>4</td>\n",
       "      <td>2</td>\n",
       "    </tr>\n",
       "  </tbody>\n",
       "</table>\n",
       "</div>"
      ],
      "text/plain": [
       "        Unnamed: 0   mpg  cyl   disp   hp  drat     wt   qsec  vs  am  gear  \\\n",
       "2       Datsun 710  22.8    4  108.0   93  3.85  2.320  18.61   1   1     4   \n",
       "7        Merc 240D  24.4    4  146.7   62  3.69  3.190  20.00   1   0     4   \n",
       "8         Merc 230  22.8    4  140.8   95  3.92  3.150  22.90   1   0     4   \n",
       "17        Fiat 128  32.4    4   78.7   66  4.08  2.200  19.47   1   1     4   \n",
       "18     Honda Civic  30.4    4   75.7   52  4.93  1.615  18.52   1   1     4   \n",
       "19  Toyota Corolla  33.9    4   71.1   65  4.22  1.835  19.90   1   1     4   \n",
       "20   Toyota Corona  21.5    4  120.1   97  3.70  2.465  20.01   1   0     3   \n",
       "25       Fiat X1-9  27.3    4   79.0   66  4.08  1.935  18.90   1   1     4   \n",
       "26   Porsche 914-2  26.0    4  120.3   91  4.43  2.140  16.70   0   1     5   \n",
       "27    Lotus Europa  30.4    4   95.1  113  3.77  1.513  16.90   1   1     5   \n",
       "31      Volvo 142E  21.4    4  121.0  109  4.11  2.780  18.60   1   1     4   \n",
       "\n",
       "    carb  \n",
       "2      1  \n",
       "7      2  \n",
       "8      2  \n",
       "17     1  \n",
       "18     2  \n",
       "19     1  \n",
       "20     1  \n",
       "25     1  \n",
       "26     2  \n",
       "27     2  \n",
       "31     2  "
      ]
     },
     "execution_count": 15,
     "metadata": {},
     "output_type": "execute_result"
    }
   ],
   "source": [
    "mtcars_4cyl"
   ]
  },
  {
   "cell_type": "code",
   "execution_count": 16,
   "metadata": {
    "ExecuteTime": {
     "end_time": "2020-06-12T14:32:04.576475Z",
     "start_time": "2020-06-12T14:32:04.551501Z"
    }
   },
   "outputs": [
    {
     "data": {
      "text/html": [
       "<div>\n",
       "<style scoped>\n",
       "    .dataframe tbody tr th:only-of-type {\n",
       "        vertical-align: middle;\n",
       "    }\n",
       "\n",
       "    .dataframe tbody tr th {\n",
       "        vertical-align: top;\n",
       "    }\n",
       "\n",
       "    .dataframe thead th {\n",
       "        text-align: right;\n",
       "    }\n",
       "</style>\n",
       "<table border=\"1\" class=\"dataframe\">\n",
       "  <thead>\n",
       "    <tr style=\"text-align: right;\">\n",
       "      <th></th>\n",
       "      <th>Unnamed: 0</th>\n",
       "      <th>mpg</th>\n",
       "      <th>cyl</th>\n",
       "      <th>disp</th>\n",
       "      <th>hp</th>\n",
       "      <th>drat</th>\n",
       "      <th>wt</th>\n",
       "      <th>qsec</th>\n",
       "      <th>vs</th>\n",
       "      <th>am</th>\n",
       "      <th>gear</th>\n",
       "      <th>carb</th>\n",
       "    </tr>\n",
       "  </thead>\n",
       "  <tbody>\n",
       "    <tr>\n",
       "      <th>0</th>\n",
       "      <td>Mazda RX4</td>\n",
       "      <td>21.0</td>\n",
       "      <td>6</td>\n",
       "      <td>160.0</td>\n",
       "      <td>110</td>\n",
       "      <td>3.90</td>\n",
       "      <td>2.620</td>\n",
       "      <td>16.46</td>\n",
       "      <td>0</td>\n",
       "      <td>1</td>\n",
       "      <td>4</td>\n",
       "      <td>4</td>\n",
       "    </tr>\n",
       "    <tr>\n",
       "      <th>1</th>\n",
       "      <td>Mazda RX4 Wag</td>\n",
       "      <td>21.0</td>\n",
       "      <td>6</td>\n",
       "      <td>160.0</td>\n",
       "      <td>110</td>\n",
       "      <td>3.90</td>\n",
       "      <td>2.875</td>\n",
       "      <td>17.02</td>\n",
       "      <td>0</td>\n",
       "      <td>1</td>\n",
       "      <td>4</td>\n",
       "      <td>4</td>\n",
       "    </tr>\n",
       "    <tr>\n",
       "      <th>3</th>\n",
       "      <td>Hornet 4 Drive</td>\n",
       "      <td>21.4</td>\n",
       "      <td>6</td>\n",
       "      <td>258.0</td>\n",
       "      <td>110</td>\n",
       "      <td>3.08</td>\n",
       "      <td>3.215</td>\n",
       "      <td>19.44</td>\n",
       "      <td>1</td>\n",
       "      <td>0</td>\n",
       "      <td>3</td>\n",
       "      <td>1</td>\n",
       "    </tr>\n",
       "    <tr>\n",
       "      <th>5</th>\n",
       "      <td>Valiant</td>\n",
       "      <td>18.1</td>\n",
       "      <td>6</td>\n",
       "      <td>225.0</td>\n",
       "      <td>105</td>\n",
       "      <td>2.76</td>\n",
       "      <td>3.460</td>\n",
       "      <td>20.22</td>\n",
       "      <td>1</td>\n",
       "      <td>0</td>\n",
       "      <td>3</td>\n",
       "      <td>1</td>\n",
       "    </tr>\n",
       "    <tr>\n",
       "      <th>9</th>\n",
       "      <td>Merc 280</td>\n",
       "      <td>19.2</td>\n",
       "      <td>6</td>\n",
       "      <td>167.6</td>\n",
       "      <td>123</td>\n",
       "      <td>3.92</td>\n",
       "      <td>3.440</td>\n",
       "      <td>18.30</td>\n",
       "      <td>1</td>\n",
       "      <td>0</td>\n",
       "      <td>4</td>\n",
       "      <td>4</td>\n",
       "    </tr>\n",
       "    <tr>\n",
       "      <th>10</th>\n",
       "      <td>Merc 280C</td>\n",
       "      <td>17.8</td>\n",
       "      <td>6</td>\n",
       "      <td>167.6</td>\n",
       "      <td>123</td>\n",
       "      <td>3.92</td>\n",
       "      <td>3.440</td>\n",
       "      <td>18.90</td>\n",
       "      <td>1</td>\n",
       "      <td>0</td>\n",
       "      <td>4</td>\n",
       "      <td>4</td>\n",
       "    </tr>\n",
       "    <tr>\n",
       "      <th>29</th>\n",
       "      <td>Ferrari Dino</td>\n",
       "      <td>19.7</td>\n",
       "      <td>6</td>\n",
       "      <td>145.0</td>\n",
       "      <td>175</td>\n",
       "      <td>3.62</td>\n",
       "      <td>2.770</td>\n",
       "      <td>15.50</td>\n",
       "      <td>0</td>\n",
       "      <td>1</td>\n",
       "      <td>5</td>\n",
       "      <td>6</td>\n",
       "    </tr>\n",
       "  </tbody>\n",
       "</table>\n",
       "</div>"
      ],
      "text/plain": [
       "        Unnamed: 0   mpg  cyl   disp   hp  drat     wt   qsec  vs  am  gear  \\\n",
       "0        Mazda RX4  21.0    6  160.0  110  3.90  2.620  16.46   0   1     4   \n",
       "1    Mazda RX4 Wag  21.0    6  160.0  110  3.90  2.875  17.02   0   1     4   \n",
       "3   Hornet 4 Drive  21.4    6  258.0  110  3.08  3.215  19.44   1   0     3   \n",
       "5          Valiant  18.1    6  225.0  105  2.76  3.460  20.22   1   0     3   \n",
       "9         Merc 280  19.2    6  167.6  123  3.92  3.440  18.30   1   0     4   \n",
       "10       Merc 280C  17.8    6  167.6  123  3.92  3.440  18.90   1   0     4   \n",
       "29    Ferrari Dino  19.7    6  145.0  175  3.62  2.770  15.50   0   1     5   \n",
       "\n",
       "    carb  \n",
       "0      4  \n",
       "1      4  \n",
       "3      1  \n",
       "5      1  \n",
       "9      4  \n",
       "10     4  \n",
       "29     6  "
      ]
     },
     "execution_count": 16,
     "metadata": {},
     "output_type": "execute_result"
    }
   ],
   "source": [
    "mtcars_6cyl"
   ]
  },
  {
   "cell_type": "code",
   "execution_count": 17,
   "metadata": {
    "ExecuteTime": {
     "end_time": "2020-06-12T14:32:04.593457Z",
     "start_time": "2020-06-12T14:32:04.577474Z"
    }
   },
   "outputs": [
    {
     "name": "stdout",
     "output_type": "stream",
     "text": [
      "dif: 16\n",
      "sp: 3.497874267122592\n",
      "R Q10. intervalul T de confidenta 95%: (3.335594, 10.505964)\n",
      "R Q10. suntem 95% siguri ca in intervalul (3.335594, 10.505964) se afla media populatiei a consumului, calculat in miles per gallon\n"
     ]
    }
   ],
   "source": [
    "car_4cyl = mtcars_4cyl.mpg.values\n",
    "car_6cyl = mtcars_6cyl.mpg.values\n",
    "\n",
    "mean_4 = np.mean(car_4cyl)\n",
    "mean_6 = np.mean(car_6cyl)\n",
    "\n",
    "std_4 = np.std(car_4cyl)\n",
    "std_6 = np.std(car_6cyl)\n",
    "\n",
    "n_4 = len(car_4cyl)\n",
    "n_6 = len(car_6cyl)\n",
    "\n",
    "dif = n_4 + n_6 - 2\n",
    "print(f'dif: {dif}')\n",
    "\n",
    "sp_4 = (n_4 - 1) * std_4**2\n",
    "sp_6 = (n_6 - 1) * std_6**2\n",
    "\n",
    "sp = np.sqrt((sp_4 + sp_6)/(dif))\n",
    "print(f'sp: {sp}')\n",
    "\n",
    "percentila = 0.975\n",
    "s, d = mean_4 - mean_6 + np.array([-1,1]) * stats.t.ppf(percentila, df=dif) * sp * (1/n_4 + 1/n_6)**0.5\n",
    "s = round(s, 6)\n",
    "d = round(d, 6)\n",
    "\n",
    "print(f'R Q10. intervalul T de confidenta 95%: {s, d}')\n",
    "print(f'R Q10. suntem 95% siguri ca in intervalul ({s}, {d}) se afla media populatiei a consumului, calculat in miles per gallon')"
   ]
  },
  {
   "cell_type": "markdown",
   "metadata": {},
   "source": [
    "__Q11__. Considerăm din nou datasetul mtcars. Folosiţi un two group T test pentru a testa ipoteza că cele două grupuri de maşini cu 4 respectiv 6 cilindri au acelaşi consum MPG. Folosiţi un test two sided cu dispersii diferite. Daţi P-value pentru acest two sided test."
   ]
  },
  {
   "cell_type": "code",
   "execution_count": 18,
   "metadata": {
    "ExecuteTime": {
     "end_time": "2020-06-12T14:32:04.604447Z",
     "start_time": "2020-06-12T14:32:04.595456Z"
    }
   },
   "outputs": [],
   "source": [
    "car_4cyl = mtcars.get(mtcars.cyl==4).mpg.values\n",
    "car_6cyl = mtcars.get(mtcars.cyl==6).mpg.values\n",
    "\n",
    "mean_4 = np.mean(car_4cyl)\n",
    "mean_6 = np.mean(car_6cyl)\n",
    "\n",
    "std_4 = np.std(car_4cyl)\n",
    "std_6 = np.std(car_6cyl)\n",
    "\n",
    "n_4 = len(car_4cyl)\n",
    "n_6 = len(car_6cyl)"
   ]
  },
  {
   "cell_type": "code",
   "execution_count": 19,
   "metadata": {
    "ExecuteTime": {
     "end_time": "2020-06-12T14:32:04.616434Z",
     "start_time": "2020-06-12T14:32:04.606445Z"
    }
   },
   "outputs": [
    {
     "name": "stdout",
     "output_type": "stream",
     "text": [
      "R Q11. two group T test: 4.9693566771643605\n",
      "R Q11. P-value: 0.0002680027582341029\n"
     ]
    }
   ],
   "source": [
    "test, pv = ttest_ind_from_stats(mean_4,\n",
    "                                std_4,\n",
    "                                n_4,\n",
    "                                mean_6,\n",
    "                                std_6,\n",
    "                                n_6,\n",
    "                                equal_var=False)\n",
    "\n",
    "print(f\"R Q11. two group T test: {test}\")\n",
    "print(f\"R Q11. P-value: {pv}\")"
   ]
  },
  {
   "cell_type": "markdown",
   "metadata": {},
   "source": [
    "__Q12__. Un site web a fost monitorizat pentru un an şi a primit 520 vizite pe zi. În primele 30 de zile ale anului următor, site-ul a primit 15800 vizite. Presupunând că vizitele au o distribuţie Poisson, daţi P-value pentru testul one sided pentru ipoteza că vizitele au sporit faţă de anul trecut. Este rejectată $H_0$? Verificaţi concluzia, calculînd şi intervalul de confidenţă."
   ]
  },
  {
   "cell_type": "code",
   "execution_count": 20,
   "metadata": {
    "ExecuteTime": {
     "end_time": "2020-06-12T14:32:04.630420Z",
     "start_time": "2020-06-12T14:32:04.618432Z"
    }
   },
   "outputs": [
    {
     "name": "stdout",
     "output_type": "stream",
     "text": [
      "P-value asociat valorii 526: 0.05444570245126146\n",
      "P-value este peste 5%.\n",
      "R Q12. intervalul de confidenta pe zi: (476.0, 565.0)\n",
      "R Q12. 526 este in intervalul de confidenta, deci previzibil.\n",
      "R Q12. masa distributiei sub 476: 0.02694290168304104\n",
      "R Q12. intervalul de confidenta pe an: (15356.0, 15845.0)\n"
     ]
    }
   ],
   "source": [
    "vizite = 520 #vizite pe zi\n",
    "x = 15800 #vizite in 30 de zile\n",
    "t = 30 #30 de zile de monitorizare\n",
    "_lambda = int(x / t) #media vizitelor in anul urmator\n",
    "mu = vizite * t\n",
    "\n",
    "pv = 1 - stats.poisson.cdf(x, mu=mu)\n",
    "print(f\"P-value asociat valorii {_lambda}: {pv}\")\n",
    "print(\"P-value este peste 5%.\")\n",
    "\n",
    "i = np.array(stats.poisson.interval(0.95, mu=vizite))\n",
    "print(f\"R Q12. intervalul de confidenta pe zi: {i[0], i[1]}\")\n",
    "\n",
    "print(\"R Q12. 526 este in intervalul de confidenta, deci previzibil.\")\n",
    "\n",
    "rate = int(i[0]) #476\n",
    "#verificare: daca 476 este valoarea ratei,\n",
    "#sub aceasta rata trebuie sa gasim 2.5% din masa distributiei\n",
    "print(f\"R Q12. masa distributiei sub {rate}: {stats.poisson.cdf(rate, mu=vizite)}\")\n",
    "\n",
    "i = np.array(stats.poisson.interval(0.95, mu=mu))\n",
    "print(f\"R Q12. intervalul de confidenta pe an: {i[0], i[1]}\")"
   ]
  },
  {
   "cell_type": "markdown",
   "metadata": {},
   "source": [
    "__Q13__. Presupunem că facem un test randomizat, dublu orb, cu 18 subiecţi obezi. 9 dintre ei primesc o pastilă de slăbit iar 9 primesc placebo. Indicele de masă corporală (BMI, Body Mass Index) a fost măsurat ca baseline şi apoi în timpul tratamentului, pentru 4 săptămâni. Diferenţa faţă de baseline (followup - baseline) a fost 3 $kg/m^2$ pentru grupul tratat şi 1 $kg/m^2$ pentru grupul placebo. Deviaţiile standard ale diferenţelor au fost de 1.5 $kg/m^2$ pentru grupul tratat şi 1.8 $kg/m^2$ pentru grupul placebo. Studiul doreşte să afle dacă schimbarea BMI după 4 saptămâni este diferită între grupul tratat şi grupul placebo. \n",
    "\n",
    "Calculaţi pooled variance şi realizaţi intervalul de confidenţă. Realizaţi apoi two sided test, verificând ipoteza nulă că mediile între grupuri nu diferă. Porniţi de la definirea $H_0$ şi $H_a$ şi calculaţi statistica T pentru intervalul 95%, în două feluri ca să vă verificaţi. Calculaţi şi P-value. Ce concluzie trageţi?"
   ]
  },
  {
   "cell_type": "code",
   "execution_count": 21,
   "metadata": {
    "ExecuteTime": {
     "end_time": "2020-06-12T14:32:04.649400Z",
     "start_time": "2020-06-12T14:32:04.632417Z"
    }
   },
   "outputs": [
    {
     "name": "stdout",
     "output_type": "stream",
     "text": [
      "df: 15.49609578\n",
      "statistic: 2.5607376\n",
      "P-value: 0.02094338\n",
      "percentila 95%: 1.74937235\n",
      "2.5607376 > 1.74937235: True => reject H_0\n",
      "R Q13. intervalul de confidenta T: [0.33991449 3.66008551]\n",
      "R Q13. intervalul de confidenta T: (0.3399144923226771, 3.660085507677323)\n",
      "R Q13. respingem ipoteza nula.\n"
     ]
    }
   ],
   "source": [
    "x_1, std_1, n_1 = 3, 1.5, 9\n",
    "x_2, std_2, n_2 = 1, 1.8, 9\n",
    "r = 8\n",
    "\n",
    "df = ((std_1**2) / n_1 + (std_2**2) / n_2)**2 / \\\n",
    "     ((std_1**2 / n_1) ** 2 / (n_1 - 1) + (std_2 ** 2 / n_2) ** 2 / (n_2 - 1))\n",
    "print(\"df:\", round(df, r))\n",
    "\n",
    "statistic, pv = stats.ttest_ind_from_stats(x_1, std_1, n_1, x_2, std_2, n_2, equal_var=True)\n",
    "print(\"statistic:\", round(statistic, r))\n",
    "print(\"P-value:\", round(pv, r))\n",
    "\n",
    "percentila = stats.t.ppf(0.95, df=df)\n",
    "print(\"percentila 95%:\", round(percentila, r))\n",
    "\n",
    "sp = np.sqrt(std_1**2 / n_1 + std_2**2 / n_2)\n",
    "\n",
    "if statistic > percentila:\n",
    "    print(f\"{round(statistic, r)} > {round(percentila, r)}: True => \", end=\"\")\n",
    "    print(\"reject H_0\")\n",
    "else:\n",
    "    print(f\"{round(statistic, r)} > {round(percentila, r)}: False => \", end=\"\")\n",
    "    print(\"fail to reject H_0\")\n",
    "    \n",
    "dif = x_1 - x_2\n",
    "\n",
    "print(f\"R Q13. intervalul de confidenta T: {dif + np.array([-1,1]) * stats.t.ppf(0.975, df=df) * sp}\")\n",
    "print(f\"R Q13. intervalul de confidenta T: {stats.t.interval(0.95, loc=dif, scale=sp, df=df)}\")\n",
    "print(f\"R Q13. respingem ipoteza nula.\")"
   ]
  },
  {
   "cell_type": "markdown",
   "metadata": {},
   "source": [
    "__Q14.__ Aveţi o monedă şi suspectaţi că este biased, că dă mai multe Heads decât Tails. Obţineţi 55 Heads din 100 de aruncări. Daţi valoarea exactă P-value pentru ipoteza ca moneda să fie non-biased (fair). Câte aruncări din 100 trebuie să iasă Heads ca să începeţi să aveţi suspiciuni întemeiate (95% confidenţă)?"
   ]
  },
  {
   "cell_type": "code",
   "execution_count": 22,
   "metadata": {
    "ExecuteTime": {
     "end_time": "2020-06-12T14:32:04.664384Z",
     "start_time": "2020-06-12T14:32:04.650399Z"
    }
   },
   "outputs": [
    {
     "name": "stdout",
     "output_type": "stream",
     "text": [
      "R Q14. P-value: 0.184101\n",
      "R Q14. intervalul de confidenta 95%: [40.20018008 59.79981992]\n"
     ]
    }
   ],
   "source": [
    "x = 55\n",
    "p = 0.5 #presupunem ca moneda e fair\n",
    "n = 100\n",
    "\n",
    "pv = stats.binom_test(x=x, n=n, p=p, alternative='greater')\n",
    "\n",
    "percentila = stats.norm.ppf(0.975)\n",
    "i = p + np.array([-1,1]) * percentila * p/np.sqrt(n)\n",
    "i = i * 100\n",
    "\n",
    "print(f\"R Q14. P-value: {round(pv, 6)}\")\n",
    "print(f\"R Q14. intervalul de confidenta 95%: {i}\")"
   ]
  }
 ],
 "metadata": {
  "kernelspec": {
   "display_name": "Python 3",
   "language": "python",
   "name": "python3"
  },
  "language_info": {
   "codemirror_mode": {
    "name": "ipython",
    "version": 3
   },
   "file_extension": ".py",
   "mimetype": "text/x-python",
   "name": "python",
   "nbconvert_exporter": "python",
   "pygments_lexer": "ipython3",
   "version": "3.7.7"
  },
  "varInspector": {
   "cols": {
    "lenName": 16,
    "lenType": 16,
    "lenVar": 40
   },
   "kernels_config": {
    "python": {
     "delete_cmd_postfix": "",
     "delete_cmd_prefix": "del ",
     "library": "var_list.py",
     "varRefreshCmd": "print(var_dic_list())"
    },
    "r": {
     "delete_cmd_postfix": ") ",
     "delete_cmd_prefix": "rm(",
     "library": "var_list.r",
     "varRefreshCmd": "cat(var_dic_list()) "
    }
   },
   "types_to_exclude": [
    "module",
    "function",
    "builtin_function_or_method",
    "instance",
    "_Feature"
   ],
   "window_display": false
  }
 },
 "nbformat": 4,
 "nbformat_minor": 2
}
