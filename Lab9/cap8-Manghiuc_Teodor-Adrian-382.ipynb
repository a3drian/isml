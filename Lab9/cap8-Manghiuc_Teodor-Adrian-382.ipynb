{
 "cells": [
  {
   "cell_type": "code",
   "execution_count": null,
   "metadata": {},
   "outputs": [],
   "source": [
    "import numpy as np\n",
    "import matplotlib.pyplot as plt\n",
    "import scipy.stats as stats\n",
    "import pandas as pd\n",
    "import statsmodels.api as sm\n",
    "import statsmodels.formula.api as smf\n",
    "import seaborn as sns\n",
    "from statsmodels.sandbox.regression.predstd import wls_prediction_std\n",
    "\n",
    "plt.rcParams.update({'font.size': 14})"
   ]
  },
  {
   "cell_type": "markdown",
   "metadata": {},
   "source": [
    "## Laborator: exerciţii şi probleme"
   ]
  },
  {
   "cell_type": "markdown",
   "metadata": {},
   "source": [
    "__Q1__. Pentru swiss dataset, realizați modelul de regresie liniară pentru Fertility în funcție de Agriculture și Education. Remarcați intercept și cei doi coeficienți.\n",
    "\n",
    "Mai departe arătați cum coeficientul regresorului $x_1$ (Agriculture) este de fapt coeficientul regresiei caracteristice răspunsului $y$ (Fertility) și regresorului $x_2$ (Education) din care contribuția celuilalt regresor ($x_1$) a fost deja înlăturată.\n",
    "\n",
    "__Hint1__: contribuția unui regresor nu mai este prezentă în reziduul asociat, și se înlătură folosind regresia liniară (revedeți slide-urile 42-end din cursul 7).\n",
    "\n",
    "__Hint2__: folosiți proprietatea .resid a modelului deja potrivit."
   ]
  },
  {
   "cell_type": "code",
   "execution_count": null,
   "metadata": {},
   "outputs": [],
   "source": [
    "swiss = pd.read_csv('swiss.csv')\n",
    "swiss.columns = ['District', 'Fertility', 'Agriculture', 'Examination', 'Education', 'Catholic', \n",
    "                 'InfantMortality']\n",
    "swiss.head()"
   ]
  },
  {
   "cell_type": "code",
   "execution_count": null,
   "metadata": {},
   "outputs": [],
   "source": [
    "lm_a = smf.ols(formula='Fertility ~ Agriculture + Education', data=swiss).fit()\n",
    "lm_a.summary()"
   ]
  },
  {
   "cell_type": "code",
   "execution_count": null,
   "metadata": {},
   "outputs": [],
   "source": [
    "print(f'R Q1. a)')\n",
    "\n",
    "intercept = lm_a.params[0]\n",
    "print(f'Intercept: {intercept}')\n",
    "\n",
    "print(f'Coeficient Agriculture: {lm_a.params[1]}')\n",
    "print(f'Coeficient Education: {lm_a.params[2]}')"
   ]
  },
  {
   "cell_type": "code",
   "execution_count": null,
   "metadata": {},
   "outputs": [],
   "source": [
    "x1 = 'Agriculture'\n",
    "x2 = 'Education'\n",
    "y = 'Fertility'\n",
    "\n",
    "lm_x1 = smf.ols(formula='Agriculture ~ Education', data=swiss).fit()\n",
    "print('Agriculture ~ Education')\n",
    "print(lm_x1.params)\n",
    "\n",
    "lm_x2 = smf.ols(formula='Fertility ~ Education', data=swiss).fit()\n",
    "print('Fertility ~ Education')\n",
    "print(lm_x2.params)"
   ]
  },
  {
   "cell_type": "code",
   "execution_count": null,
   "metadata": {},
   "outputs": [],
   "source": [
    "print(f'R Q1. b)')\n",
    "\n",
    "swiss['residAgriculture'] = lm_x1.resid\n",
    "swiss['residFertility'] = lm_x2.resid\n",
    "\n",
    "lm = smf.ols(formula='residFertility ~ residAgriculture - 1', data=swiss).fit()\n",
    "lm.summary()"
   ]
  },
  {
   "cell_type": "code",
   "execution_count": null,
   "metadata": {},
   "outputs": [],
   "source": [
    "print(f'R Q1. b)')\n",
    "\n",
    "lm = smf.ols(formula='Fertility ~ Agriculture + Education', data=swiss).fit()\n",
    "lm.summary()"
   ]
  },
  {
   "cell_type": "markdown",
   "metadata": {},
   "source": [
    "__Q2__. Pentru setul mtcars, considerați variabila categorială 'număr de cilindri'.\n",
    "\n",
    "a) Ridicați diagrama pair plot.\n",
    "\n",
    "b) Calculați coeficienții de regresie. Există variabile care par să explice consumul?\n",
    "\n",
    "c) Ridicați pe un scatter plot regresia mpg funcție de horsepower.\n",
    "\n",
    "d) În funcție și de numărul de cilindri, realizați două linii de regresie dacă presupunem că nu există interacțiune între horsepower și numărul de cilindri.\n",
    "\n",
    "e) În funcție și de numărul de cilindri, realizați două linii de regresie dacă presupunem acum că există totuși interacțiune."
   ]
  },
  {
   "cell_type": "code",
   "execution_count": null,
   "metadata": {},
   "outputs": [],
   "source": [
    "mtcars = pd.read_csv('mtcars.csv')\n",
    "mtcars.head()"
   ]
  },
  {
   "cell_type": "code",
   "execution_count": null,
   "metadata": {},
   "outputs": [],
   "source": [
    "mtcars.describe()"
   ]
  },
  {
   "cell_type": "code",
   "execution_count": null,
   "metadata": {},
   "outputs": [],
   "source": [
    "print(f'R Q1. a) Pair plot pentru \"cyl\".')\n",
    "\n",
    "cyl = mtcars['cyl']\n",
    "\n",
    "sns.set(style='ticks') #trage linii de la cifrele de sub grafic catre grafic\n",
    "sns.pairplot(mtcars, hue='cyl', kind='reg')\n",
    "plt.show()"
   ]
  },
  {
   "cell_type": "code",
   "execution_count": null,
   "metadata": {},
   "outputs": [],
   "source": [
    "print(f'R Q1. b) Coeficientii de regresie \"cyl\".')\n",
    "print()\n",
    "\n",
    "lm = smf.ols(formula='cyl ~ mpg + disp + hp + drat + wt + qsec + vs + am + gear + carb', \n",
    "             data=mtcars).fit()\n",
    "print(lm.params)\n",
    "lm.summary()"
   ]
  },
  {
   "cell_type": "code",
   "execution_count": null,
   "metadata": {},
   "outputs": [],
   "source": [
    "print(f'R Q1. b) Coeficientii de regresie \"mpg\".')\n",
    "print()\n",
    "\n",
    "lm = smf.ols(formula='mpg ~ cyl + disp + hp + drat + wt + qsec + vs + am + gear + carb', \n",
    "             data=mtcars).fit()\n",
    "print(lm.params)\n",
    "lm.summary()"
   ]
  },
  {
   "cell_type": "code",
   "execution_count": null,
   "metadata": {},
   "outputs": [],
   "source": [
    "print(f'R Q1. b) Consumul este explicat de variabila \"wt\" si \"am\".')"
   ]
  },
  {
   "cell_type": "code",
   "execution_count": null,
   "metadata": {},
   "outputs": [],
   "source": [
    "lm = smf.ols(formula='mpg ~ hp', data=mtcars).fit()\n",
    "print(lm.params)\n",
    "lm.summary()"
   ]
  },
  {
   "cell_type": "code",
   "execution_count": null,
   "metadata": {},
   "outputs": [],
   "source": [
    "print(f'R Q1. c) Scatter plot \"mpg\" in functie de horsepower.')\n",
    "\n",
    "hp = mtcars['hp'].values #X\n",
    "mpg = mtcars['mpg'].values #Y\n",
    "\n",
    "beta0 = lm.params[0] #lm 'mpg ~ hp'\n",
    "beta1 = lm.params[1]\n",
    "\n",
    "hp_mean = np.mean(hp)\n",
    "\n",
    "x1 = np.linspace(np.min(hp), np.max(hp), 100)\n",
    "y1 = beta0 + beta1 * x1\n",
    "\n",
    "fig, ax = plt.subplots(1, 1, figsize=(10, 5))\n",
    "ax.scatter(hp, mpg, c='teal', alpha=0.5, s=50)\n",
    "ax.plot(x1, y1, lw=3, c='teal')\n",
    "ax.set(xlabel='hp', ylabel='mpg')\n",
    "ax.grid(True)\n",
    "plt.show()"
   ]
  },
  {
   "cell_type": "code",
   "execution_count": null,
   "metadata": {},
   "outputs": [],
   "source": [
    "print(f'R Q1. d) Lipsa interactiune intre horsepower si numarul de cilindri.')\n",
    "\n",
    "params = smf.ols(formula='mpg ~ hp + cyl', data=mtcars).fit().params\n",
    "\n",
    "x = hp #determinat mai sus din mtcars.csv\n",
    "fig, ax = plt.subplots(1, 1, figsize=(15, 5))\n",
    "\n",
    "c = mtcars['cyl'].copy()\n",
    "c[mtcars['cyl'] == 4] = 'Red'\n",
    "c[mtcars['cyl'] == 6] = 'Green'\n",
    "c[mtcars['cyl'] == 8] = 'Blue'\n",
    "ax.scatter(hp, mpg, c=c)\n",
    "\n",
    "ax.plot(x, params[0] + params[1] * x + params[2] * 4, 'r')\n",
    "ax.plot(x, params[0] + params[1] * x + params[2] * 6, 'g')\n",
    "ax.plot(x, params[0] + params[1] * x + params[2] * 8, 'b')\n",
    "ax.set_xlabel('hp')\n",
    "ax.set_ylabel('mpg')\n",
    "ax.legend(['4 cylinders', '6 cylinders', '8 cylinders'])\n",
    "plt.grid()\n",
    "plt.show()"
   ]
  },
  {
   "cell_type": "code",
   "execution_count": null,
   "metadata": {},
   "outputs": [],
   "source": [
    "print(f'R Q1. e) Exista interactiune intre horsepower si numarul de cilindri.')\n",
    "\n",
    "formula = 'mpg ~ hp * C(cyl)'\n",
    "\n",
    "params = smf.ols(formula=formula, data=mtcars).fit().params\n",
    "\n",
    "x = hp #determinat mai sus din mtcars.csv\n",
    "fig, ax = plt.subplots(1, 1, figsize=(15, 5))\n",
    "\n",
    "c = mtcars['cyl'].copy()\n",
    "c[mtcars['cyl'] == 4] = 'Red'\n",
    "c[mtcars['cyl'] == 6] = 'Green'\n",
    "c[mtcars['cyl'] == 8] = 'Blue'\n",
    "ax.scatter(hp, mpg, c=c)\n",
    "\n",
    "ax.plot(x, params[0] + params[1] * x + (params[2] + params[3]) * x * 4, 'r')\n",
    "ax.plot(x, params[0] + params[1] * x + (params[2] + params[3]) * x * 6, 'g')\n",
    "ax.plot(x, params[0] + params[1] * x + (params[2] + params[3]) * x * 8, 'b')\n",
    "ax.set_xlabel('hp')\n",
    "ax.set_ylabel('mpg')\n",
    "ax.legend(['4 cylinders', '6 cylinders', '8 cylinders'])\n",
    "plt.grid()\n",
    "plt.show()"
   ]
  },
  {
   "cell_type": "code",
   "execution_count": null,
   "metadata": {},
   "outputs": [],
   "source": [
    "lm = smf.ols(formula=formula, data=mtcars).fit() #lm 'mpg ~ hp * C(cyl)'\n",
    "print(lm.params)\n",
    "lm.summary()"
   ]
  }
 ],
 "metadata": {
  "kernelspec": {
   "display_name": "Python 3",
   "language": "python",
   "name": "python3"
  },
  "language_info": {
   "codemirror_mode": {
    "name": "ipython",
    "version": 3
   },
   "file_extension": ".py",
   "mimetype": "text/x-python",
   "name": "python",
   "nbconvert_exporter": "python",
   "pygments_lexer": "ipython3",
   "version": "3.7.7"
  }
 },
 "nbformat": 4,
 "nbformat_minor": 2
}
